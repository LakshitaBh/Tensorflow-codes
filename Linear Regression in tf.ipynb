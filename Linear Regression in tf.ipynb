{
 "cells": [
  {
   "cell_type": "code",
   "execution_count": 2,
   "metadata": {},
   "outputs": [
    {
     "name": "stderr",
     "output_type": "stream",
     "text": [
      "C:\\Users\\bharg\\Anaconda3\\lib\\site-packages\\h5py\\__init__.py:34: FutureWarning: Conversion of the second argument of issubdtype from `float` to `np.floating` is deprecated. In future, it will be treated as `np.float64 == np.dtype(float).type`.\n",
      "  from ._conv import register_converters as _register_converters\n"
     ]
    }
   ],
   "source": [
    "import tensorflow as tf\n",
    "import numpy as np\n",
    "import pandas as pd"
   ]
  },
  {
   "cell_type": "code",
   "execution_count": 15,
   "metadata": {
    "collapsed": true
   },
   "outputs": [],
   "source": [
    "from sklearn.datasets import load_boston\n",
    "from sklearn.preprocessing import normalize \n",
    "from sklearn.model_selection import train_test_split"
   ]
  },
  {
   "cell_type": "code",
   "execution_count": 168,
   "metadata": {},
   "outputs": [
    {
     "name": "stdout",
     "output_type": "stream",
     "text": [
      "(506,)\n",
      "(506, 13)\n"
     ]
    }
   ],
   "source": [
    "data, targets = load_boston(True)\n",
    "data = normalize(data)\n",
    "print(targets.shape)\n",
    "print(data.shape)"
   ]
  },
  {
   "cell_type": "code",
   "execution_count": 169,
   "metadata": {},
   "outputs": [],
   "source": [
    "targets = targets.reshape((targets.shape[0],1))\n",
    "x_train, x_test, y_train, y_test = train_test_split(data, targets, test_size = 0.3, random_state = 42)"
   ]
  },
  {
   "cell_type": "code",
   "execution_count": 170,
   "metadata": {},
   "outputs": [
    {
     "name": "stdout",
     "output_type": "stream",
     "text": [
      "(354, 13),(152, 13),(354, 1),(152, 1)\n"
     ]
    }
   ],
   "source": [
    "print(\",\".join([str(t.shape) for t in (x_train, x_test, y_train, y_test)]))"
   ]
  },
  {
   "cell_type": "code",
   "execution_count": 171,
   "metadata": {
    "collapsed": true
   },
   "outputs": [],
   "source": [
    "W = tf.Variable(tf.constant(0.1,shape=[13,1]))\n",
    "b = tf.Variable(tf.constant(0.1))\n",
    "epochs = 10000"
   ]
  },
  {
   "cell_type": "code",
   "execution_count": 172,
   "metadata": {
    "collapsed": true
   },
   "outputs": [],
   "source": [
    "X = tf.placeholder(tf.float32, shape = [None, 13])\n",
    "y = tf.placeholder(tf.float32, shape = [None,1])"
   ]
  },
  {
   "cell_type": "code",
   "execution_count": 173,
   "metadata": {
    "collapsed": true
   },
   "outputs": [],
   "source": [
    "y1 = tf.matmul(X,W)+b"
   ]
  },
  {
   "cell_type": "code",
   "execution_count": 174,
   "metadata": {
    "collapsed": true
   },
   "outputs": [],
   "source": [
    "cost = tf.reduce_mean(tf.pow(y1-y,2))"
   ]
  },
  {
   "cell_type": "code",
   "execution_count": 175,
   "metadata": {
    "collapsed": true
   },
   "outputs": [],
   "source": [
    "optimizer = tf.train.GradientDescentOptimizer(learning_rate=0.5).minimize(cost)"
   ]
  },
  {
   "cell_type": "code",
   "execution_count": 176,
   "metadata": {},
   "outputs": [],
   "source": [
    "sess = tf.Session()\n",
    "sess.run(tf.global_variables_initializer())\n",
    "init_cost = sess.run(cost,feed_dict={X:x_train, y:y_train})  "
   ]
  },
  {
   "cell_type": "code",
   "execution_count": 177,
   "metadata": {},
   "outputs": [
    {
     "name": "stdout",
     "output_type": "stream",
     "text": [
      "605.65076\n"
     ]
    }
   ],
   "source": [
    "print(init_cost)"
   ]
  },
  {
   "cell_type": "code",
   "execution_count": 178,
   "metadata": {},
   "outputs": [
    {
     "name": "stdout",
     "output_type": "stream",
     "text": [
      "Loss at 0 536.62006\n",
      "Loss at 100 66.02756\n",
      "Loss at 200 64.589966\n",
      "Loss at 300 63.529793\n",
      "Loss at 400 62.686447\n",
      "Loss at 500 61.97215\n",
      "Loss at 600 61.338116\n",
      "Loss at 700 60.75677\n",
      "Loss at 800 60.21211\n",
      "Loss at 900 59.69465\n",
      "Loss at 1000 59.198456\n",
      "Loss at 1100 58.71974\n",
      "Loss at 1200 58.25598\n",
      "Loss at 1300 57.80536\n",
      "Loss at 1400 57.36662\n",
      "Loss at 1500 56.938736\n",
      "Loss at 1600 56.520977\n",
      "Loss at 1700 56.11275\n",
      "Loss at 1800 55.71353\n",
      "Loss at 1900 55.32292\n",
      "Loss at 2000 54.940567\n",
      "Loss at 2100 54.56615\n",
      "Loss at 2200 54.19944\n",
      "Loss at 2300 53.840157\n",
      "Loss at 2400 53.488132\n",
      "Loss at 2500 53.14316\n",
      "Loss at 2600 52.805023\n",
      "Loss at 2700 52.473595\n",
      "Loss at 2800 52.148697\n",
      "Loss at 2900 51.830177\n",
      "Loss at 3000 51.517914\n",
      "Loss at 3100 51.211754\n",
      "Loss at 3200 50.911564\n",
      "Loss at 3300 50.61721\n",
      "Loss at 3400 50.328598\n",
      "Loss at 3500 50.045586\n",
      "Loss at 3600 49.76806\n",
      "Loss at 3700 49.49592\n",
      "Loss at 3800 49.22903\n",
      "Loss at 3900 48.9673\n",
      "Loss at 4000 48.710632\n",
      "Loss at 4100 48.4589\n",
      "Loss at 4200 48.21203\n",
      "Loss at 4300 47.96991\n",
      "Loss at 4400 47.732437\n",
      "Loss at 4500 47.499516\n",
      "Loss at 4600 47.27108\n",
      "Loss at 4700 47.04702\n",
      "Loss at 4800 46.827248\n",
      "Loss at 4900 46.611683\n",
      "Loss at 5000 46.40023\n",
      "Loss at 5100 46.192814\n",
      "Loss at 5200 45.989357\n",
      "Loss at 5300 45.78977\n",
      "Loss at 5400 45.593983\n",
      "Loss at 5500 45.40191\n",
      "Loss at 5600 45.21349\n",
      "Loss at 5700 45.02864\n",
      "Loss at 5800 44.8473\n",
      "Loss at 5900 44.669388\n",
      "Loss at 6000 44.494835\n",
      "Loss at 6100 44.323578\n",
      "Loss at 6200 44.15555\n",
      "Loss at 6300 43.990685\n",
      "Loss at 6400 43.828915\n",
      "Loss at 6500 43.670197\n",
      "Loss at 6600 43.514442\n",
      "Loss at 6700 43.36162\n",
      "Loss at 6800 43.21165\n",
      "Loss at 6900 43.064487\n",
      "Loss at 7000 42.920067\n",
      "Loss at 7100 42.77834\n",
      "Loss at 7200 42.639256\n",
      "Loss at 7300 42.502735\n",
      "Loss at 7400 42.36878\n",
      "Loss at 7500 42.237297\n",
      "Loss at 7600 42.108234\n",
      "Loss at 7700 41.98157\n",
      "Loss at 7800 41.85724\n",
      "Loss at 7900 41.735207\n",
      "Loss at 8000 41.61541\n",
      "Loss at 8100 41.49782\n",
      "Loss at 8200 41.382374\n",
      "Loss at 8300 41.26906\n",
      "Loss at 8400 41.15781\n",
      "Loss at 8500 41.04859\n",
      "Loss at 8600 40.941364\n",
      "Loss at 8700 40.83609\n",
      "Loss at 8800 40.732723\n",
      "Loss at 8900 40.631237\n",
      "Loss at 9000 40.53158\n",
      "Loss at 9100 40.433727\n",
      "Loss at 9200 40.337646\n",
      "Loss at 9300 40.24329\n",
      "Loss at 9400 40.150627\n",
      "Loss at 9500 40.059624\n",
      "Loss at 9600 39.97026\n",
      "Loss at 9700 39.882492\n",
      "Loss at 9800 39.796288\n",
      "Loss at 9900 39.711617\n",
      "Loss at 10000 39.628452\n"
     ]
    }
   ],
   "source": [
    "for i in range(epochs+1):\n",
    "    sess.run(optimizer,{X:x_train,y:y_train})\n",
    "    \n",
    "    if i%100 == 0:\n",
    "        print('Loss at {}'.format(i),sess.run(cost,{X:x_train,y:y_train}))"
   ]
  },
  {
   "cell_type": "code",
   "execution_count": 181,
   "metadata": {},
   "outputs": [
    {
     "name": "stdout",
     "output_type": "stream",
     "text": [
      "Prediction: [14.387392]  Actual: [27.5]\n",
      "Prediction: [34.817192]  Actual: [50.]\n",
      "Prediction: [15.863647]  Actual: [7.]\n",
      "Prediction: [19.37985]  Actual: [13.1]\n",
      "Prediction: [25.197344]  Actual: [22.4]\n",
      "Prediction: [24.864557]  Actual: [23.2]\n",
      "Prediction: [23.87421]  Actual: [23.1]\n",
      "Prediction: [31.117113]  Actual: [28.2]\n",
      "Prediction: [22.665281]  Actual: [23.]\n",
      "Prediction: [25.197344]  Actual: [22.4]\n",
      "Prediction: [28.17851]  Actual: [36.2]\n",
      "Prediction: [20.966724]  Actual: [18.7]\n",
      "Prediction: [21.518589]  Actual: [18.8]\n",
      "Prediction: [22.696505]  Actual: [23.7]\n",
      "Prediction: [21.986343]  Actual: [17.5]\n",
      "Prediction: [22.8886]  Actual: [20.3]\n",
      "Prediction: [21.76675]  Actual: [21.5]\n",
      "Prediction: [24.635956]  Actual: [18.9]\n",
      "Prediction: [23.275465]  Actual: [20.1]\n",
      "Prediction: [27.619244]  Actual: [25.]\n"
     ]
    }
   ],
   "source": [
    "output = sess.run(y1,{X:x_test})\n",
    "for i in range(20):\n",
    "    index = np.random.randint(0,152)\n",
    "    print('Prediction: {}'.format(output[index]),' Actual: {}'.format(y_test[index]))"
   ]
  },
  {
   "cell_type": "code",
   "execution_count": 188,
   "metadata": {},
   "outputs": [],
   "source": [
    "cost_test = sess.run(cost,{y1:output,y:y_test})"
   ]
  },
  {
   "cell_type": "code",
   "execution_count": 187,
   "metadata": {},
   "outputs": [
    {
     "name": "stdout",
     "output_type": "stream",
     "text": [
      "31.612488\n"
     ]
    }
   ],
   "source": [
    "print(cost_test)"
   ]
  },
  {
   "cell_type": "code",
   "execution_count": null,
   "metadata": {
    "collapsed": true
   },
   "outputs": [],
   "source": []
  }
 ],
 "metadata": {
  "kernelspec": {
   "display_name": "Python 3",
   "language": "python",
   "name": "python3"
  },
  "language_info": {
   "codemirror_mode": {
    "name": "ipython",
    "version": 3
   },
   "file_extension": ".py",
   "mimetype": "text/x-python",
   "name": "python",
   "nbconvert_exporter": "python",
   "pygments_lexer": "ipython3",
   "version": "3.6.3"
  }
 },
 "nbformat": 4,
 "nbformat_minor": 2
}
